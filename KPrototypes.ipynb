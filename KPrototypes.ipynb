{
 "cells": [
  {
   "cell_type": "code",
   "execution_count": 1,
   "metadata": {
    "tags": []
   },
   "outputs": [],
   "source": [
    "# UPDATE TO MATCH PERSONAL DIRECTORY STRUCTURE\n",
    "DIR = '/Users/anvitirunagari/Desktop/vanity_sizing_project/rtr_review_uncleaned.pkl'"
   ]
  },
  {
   "cell_type": "code",
   "execution_count": 2,
   "metadata": {},
   "outputs": [],
   "source": [
    "import pandas as pd\n",
    "import pickle"
   ]
  },
  {
   "cell_type": "code",
   "execution_count": 3,
   "metadata": {},
   "outputs": [],
   "source": [
    "with open('rtr_reviews_uncleaned.pkl', 'rb') as f:\n",
    "    data = pickle.load(f)\n",
    "\n",
    "customers = data[['user_id', 'weight', 'body type', 'height', 'size', 'age','band_size', 'cup_size']]\n",
    "\n",
    "customers = customers.drop_duplicates(subset='user_id')\n",
    "\n",
    "customers_complete = customers.dropna()"
   ]
  },
  {
   "cell_type": "code",
   "execution_count": 4,
   "metadata": {
    "tags": []
   },
   "outputs": [
    {
     "data": {
      "text/html": [
       "<div>\n",
       "<style scoped>\n",
       "    .dataframe tbody tr th:only-of-type {\n",
       "        vertical-align: middle;\n",
       "    }\n",
       "\n",
       "    .dataframe tbody tr th {\n",
       "        vertical-align: top;\n",
       "    }\n",
       "\n",
       "    .dataframe thead th {\n",
       "        text-align: right;\n",
       "    }\n",
       "</style>\n",
       "<table border=\"1\" class=\"dataframe\">\n",
       "  <thead>\n",
       "    <tr style=\"text-align: right;\">\n",
       "      <th></th>\n",
       "      <th>user_id</th>\n",
       "      <th>weight</th>\n",
       "      <th>body type</th>\n",
       "      <th>height</th>\n",
       "      <th>size</th>\n",
       "      <th>age</th>\n",
       "      <th>band_size</th>\n",
       "      <th>cup_size</th>\n",
       "    </tr>\n",
       "  </thead>\n",
       "  <tbody>\n",
       "    <tr>\n",
       "      <th>0</th>\n",
       "      <td>420272</td>\n",
       "      <td>137.0</td>\n",
       "      <td>hourglass</td>\n",
       "      <td>68</td>\n",
       "      <td>14</td>\n",
       "      <td>28</td>\n",
       "      <td>34</td>\n",
       "      <td>d</td>\n",
       "    </tr>\n",
       "    <tr>\n",
       "      <th>1</th>\n",
       "      <td>273551</td>\n",
       "      <td>132.0</td>\n",
       "      <td>straight &amp; narrow</td>\n",
       "      <td>66</td>\n",
       "      <td>12</td>\n",
       "      <td>36</td>\n",
       "      <td>34</td>\n",
       "      <td>b</td>\n",
       "    </tr>\n",
       "    <tr>\n",
       "      <th>3</th>\n",
       "      <td>909926</td>\n",
       "      <td>135.0</td>\n",
       "      <td>pear</td>\n",
       "      <td>65</td>\n",
       "      <td>8</td>\n",
       "      <td>34</td>\n",
       "      <td>34</td>\n",
       "      <td>c</td>\n",
       "    </tr>\n",
       "    <tr>\n",
       "      <th>4</th>\n",
       "      <td>151944</td>\n",
       "      <td>145.0</td>\n",
       "      <td>athletic</td>\n",
       "      <td>69</td>\n",
       "      <td>12</td>\n",
       "      <td>27</td>\n",
       "      <td>34</td>\n",
       "      <td>b</td>\n",
       "    </tr>\n",
       "    <tr>\n",
       "      <th>5</th>\n",
       "      <td>734848</td>\n",
       "      <td>138.0</td>\n",
       "      <td>athletic</td>\n",
       "      <td>68</td>\n",
       "      <td>8</td>\n",
       "      <td>45</td>\n",
       "      <td>32</td>\n",
       "      <td>b</td>\n",
       "    </tr>\n",
       "    <tr>\n",
       "      <th>...</th>\n",
       "      <td>...</td>\n",
       "      <td>...</td>\n",
       "      <td>...</td>\n",
       "      <td>...</td>\n",
       "      <td>...</td>\n",
       "      <td>...</td>\n",
       "      <td>...</td>\n",
       "      <td>...</td>\n",
       "    </tr>\n",
       "    <tr>\n",
       "      <th>192339</th>\n",
       "      <td>597756</td>\n",
       "      <td>220.0</td>\n",
       "      <td>full bust</td>\n",
       "      <td>64</td>\n",
       "      <td>35</td>\n",
       "      <td>32</td>\n",
       "      <td>38</td>\n",
       "      <td>dd</td>\n",
       "    </tr>\n",
       "    <tr>\n",
       "      <th>192343</th>\n",
       "      <td>838239</td>\n",
       "      <td>150.0</td>\n",
       "      <td>hourglass</td>\n",
       "      <td>60</td>\n",
       "      <td>24</td>\n",
       "      <td>55</td>\n",
       "      <td>36</td>\n",
       "      <td>c</td>\n",
       "    </tr>\n",
       "    <tr>\n",
       "      <th>192347</th>\n",
       "      <td>442241</td>\n",
       "      <td>127.0</td>\n",
       "      <td>full bust</td>\n",
       "      <td>65</td>\n",
       "      <td>8</td>\n",
       "      <td>33</td>\n",
       "      <td>34</td>\n",
       "      <td>d</td>\n",
       "    </tr>\n",
       "    <tr>\n",
       "      <th>192353</th>\n",
       "      <td>961120</td>\n",
       "      <td>165.0</td>\n",
       "      <td>pear</td>\n",
       "      <td>66</td>\n",
       "      <td>16</td>\n",
       "      <td>31</td>\n",
       "      <td>36</td>\n",
       "      <td>c</td>\n",
       "    </tr>\n",
       "    <tr>\n",
       "      <th>192354</th>\n",
       "      <td>123612</td>\n",
       "      <td>155.0</td>\n",
       "      <td>athletic</td>\n",
       "      <td>66</td>\n",
       "      <td>16</td>\n",
       "      <td>30</td>\n",
       "      <td>36</td>\n",
       "      <td>b</td>\n",
       "    </tr>\n",
       "  </tbody>\n",
       "</table>\n",
       "<p>77382 rows × 8 columns</p>\n",
       "</div>"
      ],
      "text/plain": [
       "        user_id  weight          body type  height size  age band_size  \\\n",
       "0        420272   137.0          hourglass      68   14   28        34   \n",
       "1        273551   132.0  straight & narrow      66   12   36        34   \n",
       "3        909926   135.0               pear      65    8   34        34   \n",
       "4        151944   145.0           athletic      69   12   27        34   \n",
       "5        734848   138.0           athletic      68    8   45        32   \n",
       "...         ...     ...                ...     ...  ...  ...       ...   \n",
       "192339   597756   220.0          full bust      64   35   32        38   \n",
       "192343   838239   150.0          hourglass      60   24   55        36   \n",
       "192347   442241   127.0          full bust      65    8   33        34   \n",
       "192353   961120   165.0               pear      66   16   31        36   \n",
       "192354   123612   155.0           athletic      66   16   30        36   \n",
       "\n",
       "       cup_size  \n",
       "0             d  \n",
       "1             b  \n",
       "3             c  \n",
       "4             b  \n",
       "5             b  \n",
       "...         ...  \n",
       "192339       dd  \n",
       "192343        c  \n",
       "192347        d  \n",
       "192353        c  \n",
       "192354        b  \n",
       "\n",
       "[77382 rows x 8 columns]"
      ]
     },
     "execution_count": 4,
     "metadata": {},
     "output_type": "execute_result"
    }
   ],
   "source": [
    "customers_complete"
   ]
  },
  {
   "cell_type": "code",
   "execution_count": 6,
   "metadata": {
    "tags": []
   },
   "outputs": [
    {
     "name": "stdout",
     "output_type": "stream",
     "text": [
      "<class 'pandas.core.frame.DataFrame'>\n",
      "Int64Index: 77382 entries, 0 to 192354\n",
      "Data columns (total 8 columns):\n",
      " #   Column     Non-Null Count  Dtype   \n",
      "---  ------     --------------  -----   \n",
      " 0   user_id    77382 non-null  int64   \n",
      " 1   weight     77382 non-null  float64 \n",
      " 2   body type  77382 non-null  category\n",
      " 3   height     77382 non-null  Int64   \n",
      " 4   size       77382 non-null  category\n",
      " 5   age        77382 non-null  Int64   \n",
      " 6   band_size  77382 non-null  category\n",
      " 7   cup_size   77382 non-null  category\n",
      "dtypes: Int64(2), category(4), float64(1), int64(1)\n",
      "memory usage: 3.4 MB\n"
     ]
    }
   ],
   "source": [
    "customers_complete.info()"
   ]
  },
  {
   "cell_type": "markdown",
   "metadata": {},
   "source": [
    "### K-Prototypes"
   ]
  },
  {
   "cell_type": "markdown",
   "metadata": {},
   "source": [
    "#### Setting up the model"
   ]
  },
  {
   "cell_type": "code",
   "execution_count": 8,
   "metadata": {
    "tags": []
   },
   "outputs": [],
   "source": [
    "import numpy as np\n",
    "from kmodes.kprototypes import KPrototypes\n",
    "import matplotlib.pyplot as plt"
   ]
  },
  {
   "cell_type": "code",
   "execution_count": 12,
   "metadata": {
    "tags": []
   },
   "outputs": [],
   "source": [
    "numerical_cols = [\"weight\", \"height\", \"age\"]\n",
    "categorical_cols = [\"body type\", \"size\", \"band_size\", \"cup_size\"]\n",
    "categorical = [2,4,6,7]"
   ]
  },
  {
   "cell_type": "code",
   "execution_count": 9,
   "metadata": {
    "tags": []
   },
   "outputs": [],
   "source": [
    "stack = np.column_stack((customers_complete[numerical_cols].values, customers_complete[categorical_cols].values))"
   ]
  },
  {
   "cell_type": "code",
   "execution_count": 18,
   "metadata": {
    "tags": []
   },
   "outputs": [],
   "source": [
    "def k_prototypes(data, categorical, n_clusters):\n",
    "    kproto = KPrototypes(n_clusters = n_clusters, init='Huang', n_init=1, verbose=0)\n",
    "    clusters = kproto.fit_predict(data, categorical=categorical)\n",
    "    return clusters"
   ]
  },
  {
   "cell_type": "markdown",
   "metadata": {},
   "source": [
    "#### Gap Statistic - used to calculate the best number of clusters"
   ]
  },
  {
   "cell_type": "code",
   "execution_count": 14,
   "metadata": {
    "tags": []
   },
   "outputs": [],
   "source": [
    "def gap_statistic(data, categorical, k_max):\n",
    "    gaps = np.zeros((k_max,))\n",
    "    resultsdf = pd.DataFrame({'clusterCount':[], 'gap':[]})\n",
    "    for k in range(1, k_max+1):\n",
    "        kproto = KPrototypes(n_clusters=k, init='Huang', n_init=1, verbose=0)\n",
    "        kproto.fit_predict(data, categorical = categorical)\n",
    "        \n",
    "        refDisps = np.zeros(10)\n",
    "        for i in range (10):\n",
    "            randomReference = np.random.random_sample(size=data.shape)\n",
    "            kproto_ref = KPrototypes(n_clusters=k, init='Huang', n_init=1, verbose=0)\n",
    "            kproto_ref.fit_predict(randomReference, categorical = categorical)\n",
    "            refDisp = kproto_ref.cost_\n",
    "            refDisps[i] = refDisp\n",
    "        \n",
    "        originalDisp = kproto.cost_\n",
    "        gap = np.log(np.mean(refDisps)) - np.log(originalDisp)\n",
    "        resultsdf = resultsdf.append({'clusterCount':k, 'gap': gap}, ignore_index=True)\n",
    "    return resultsdf"
   ]
  },
  {
   "cell_type": "code",
   "execution_count": null,
   "metadata": {
    "tags": []
   },
   "outputs": [
    {
     "name": "stderr",
     "output_type": "stream",
     "text": [
      "/var/folders/vk/qv6c5zr14pbdttxdnjls2jxr0000gn/T/ipykernel_22447/1471794751.py:18: FutureWarning: The frame.append method is deprecated and will be removed from pandas in a future version. Use pandas.concat instead.\n",
      "  resultsdf = resultsdf.append({'clusterCount':k, 'gap': gap}, ignore_index=True)\n"
     ]
    }
   ],
   "source": [
    "gap_statistic(customers_complete, [2,4,6,7], 5)"
   ]
  },
  {
   "cell_type": "code",
   "execution_count": 19,
   "metadata": {
    "tags": []
   },
   "outputs": [
    {
     "data": {
      "text/plain": [
       "array([4, 7, 0, ..., 4, 5, 6], dtype=uint16)"
      ]
     },
     "execution_count": 19,
     "metadata": {},
     "output_type": "execute_result"
    }
   ],
   "source": [
    "k_prototypes(customers_complete, [2,4,6,7], 15)"
   ]
  },
  {
   "cell_type": "code",
   "execution_count": null,
   "metadata": {},
   "outputs": [],
   "source": []
  }
 ],
 "metadata": {
  "kernelspec": {
   "display_name": "Python 3 (ipykernel)",
   "language": "python",
   "name": "python3"
  },
  "language_info": {
   "codemirror_mode": {
    "name": "ipython",
    "version": 3
   },
   "file_extension": ".py",
   "mimetype": "text/x-python",
   "name": "python",
   "nbconvert_exporter": "python",
   "pygments_lexer": "ipython3",
   "version": "3.11.4"
  }
 },
 "nbformat": 4,
 "nbformat_minor": 4
}
