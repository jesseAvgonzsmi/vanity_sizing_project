{
 "cells": [
  {
   "cell_type": "markdown",
   "metadata": {},
   "source": [
    "Conculsion -- not the best fit. The lack of an elbow, with or without pca, makes it not particularly strong without going to a no-longer helpful number of clusters significantly greater than the current market.\n",
    "\n",
    "This is likely because k means is not well suited to handling mixed data, like this dataset."
   ]
  },
  {
   "cell_type": "code",
   "execution_count": 17,
   "metadata": {},
   "outputs": [],
   "source": [
    "# UPDATE TO MATCH PERSONAL DIRECTORY STRUCTURE\n",
    "DIR = 'C:\\\\Users\\\\jesse\\\\Documents\\\\GitHub\\\\vanity_sizing_project\\\\data\\\\'"
   ]
  },
  {
   "cell_type": "code",
   "execution_count": 18,
   "metadata": {},
   "outputs": [],
   "source": [
    "import pandas as pd\n",
    "import pickle"
   ]
  },
  {
   "cell_type": "code",
   "execution_count": 19,
   "metadata": {},
   "outputs": [],
   "source": [
    "with open(DIR+'rtr_reviews_uncleaned.pkl', 'rb') as f:\n",
    "    data = pickle.load(f)\n",
    "\n",
    "customers = data[['user_id', 'weight', 'body type', 'height', 'size', 'age','band_size', 'cup_size']]\n",
    "\n",
    "customers = customers.drop_duplicates(subset='user_id')\n",
    "\n",
    "customers_complete = customers.dropna()"
   ]
  },
  {
   "cell_type": "code",
   "execution_count": 20,
   "metadata": {},
   "outputs": [
    {
     "data": {
      "text/html": [
       "<div>\n",
       "<style scoped>\n",
       "    .dataframe tbody tr th:only-of-type {\n",
       "        vertical-align: middle;\n",
       "    }\n",
       "\n",
       "    .dataframe tbody tr th {\n",
       "        vertical-align: top;\n",
       "    }\n",
       "\n",
       "    .dataframe thead th {\n",
       "        text-align: right;\n",
       "    }\n",
       "</style>\n",
       "<table border=\"1\" class=\"dataframe\">\n",
       "  <thead>\n",
       "    <tr style=\"text-align: right;\">\n",
       "      <th></th>\n",
       "      <th>user_id</th>\n",
       "      <th>weight</th>\n",
       "      <th>body type</th>\n",
       "      <th>height</th>\n",
       "      <th>size</th>\n",
       "      <th>age</th>\n",
       "      <th>band_size</th>\n",
       "      <th>cup_size</th>\n",
       "    </tr>\n",
       "  </thead>\n",
       "  <tbody>\n",
       "    <tr>\n",
       "      <th>0</th>\n",
       "      <td>420272</td>\n",
       "      <td>137.0</td>\n",
       "      <td>hourglass</td>\n",
       "      <td>68</td>\n",
       "      <td>14</td>\n",
       "      <td>28</td>\n",
       "      <td>34</td>\n",
       "      <td>d</td>\n",
       "    </tr>\n",
       "    <tr>\n",
       "      <th>1</th>\n",
       "      <td>273551</td>\n",
       "      <td>132.0</td>\n",
       "      <td>straight &amp; narrow</td>\n",
       "      <td>66</td>\n",
       "      <td>12</td>\n",
       "      <td>36</td>\n",
       "      <td>34</td>\n",
       "      <td>b</td>\n",
       "    </tr>\n",
       "    <tr>\n",
       "      <th>3</th>\n",
       "      <td>909926</td>\n",
       "      <td>135.0</td>\n",
       "      <td>pear</td>\n",
       "      <td>65</td>\n",
       "      <td>8</td>\n",
       "      <td>34</td>\n",
       "      <td>34</td>\n",
       "      <td>c</td>\n",
       "    </tr>\n",
       "    <tr>\n",
       "      <th>4</th>\n",
       "      <td>151944</td>\n",
       "      <td>145.0</td>\n",
       "      <td>athletic</td>\n",
       "      <td>69</td>\n",
       "      <td>12</td>\n",
       "      <td>27</td>\n",
       "      <td>34</td>\n",
       "      <td>b</td>\n",
       "    </tr>\n",
       "    <tr>\n",
       "      <th>5</th>\n",
       "      <td>734848</td>\n",
       "      <td>138.0</td>\n",
       "      <td>athletic</td>\n",
       "      <td>68</td>\n",
       "      <td>8</td>\n",
       "      <td>45</td>\n",
       "      <td>32</td>\n",
       "      <td>b</td>\n",
       "    </tr>\n",
       "    <tr>\n",
       "      <th>...</th>\n",
       "      <td>...</td>\n",
       "      <td>...</td>\n",
       "      <td>...</td>\n",
       "      <td>...</td>\n",
       "      <td>...</td>\n",
       "      <td>...</td>\n",
       "      <td>...</td>\n",
       "      <td>...</td>\n",
       "    </tr>\n",
       "    <tr>\n",
       "      <th>192339</th>\n",
       "      <td>597756</td>\n",
       "      <td>220.0</td>\n",
       "      <td>full bust</td>\n",
       "      <td>64</td>\n",
       "      <td>35</td>\n",
       "      <td>32</td>\n",
       "      <td>38</td>\n",
       "      <td>dd</td>\n",
       "    </tr>\n",
       "    <tr>\n",
       "      <th>192343</th>\n",
       "      <td>838239</td>\n",
       "      <td>150.0</td>\n",
       "      <td>hourglass</td>\n",
       "      <td>60</td>\n",
       "      <td>24</td>\n",
       "      <td>55</td>\n",
       "      <td>36</td>\n",
       "      <td>c</td>\n",
       "    </tr>\n",
       "    <tr>\n",
       "      <th>192347</th>\n",
       "      <td>442241</td>\n",
       "      <td>127.0</td>\n",
       "      <td>full bust</td>\n",
       "      <td>65</td>\n",
       "      <td>8</td>\n",
       "      <td>33</td>\n",
       "      <td>34</td>\n",
       "      <td>d</td>\n",
       "    </tr>\n",
       "    <tr>\n",
       "      <th>192353</th>\n",
       "      <td>961120</td>\n",
       "      <td>165.0</td>\n",
       "      <td>pear</td>\n",
       "      <td>66</td>\n",
       "      <td>16</td>\n",
       "      <td>31</td>\n",
       "      <td>36</td>\n",
       "      <td>c</td>\n",
       "    </tr>\n",
       "    <tr>\n",
       "      <th>192354</th>\n",
       "      <td>123612</td>\n",
       "      <td>155.0</td>\n",
       "      <td>athletic</td>\n",
       "      <td>66</td>\n",
       "      <td>16</td>\n",
       "      <td>30</td>\n",
       "      <td>36</td>\n",
       "      <td>b</td>\n",
       "    </tr>\n",
       "  </tbody>\n",
       "</table>\n",
       "<p>77382 rows × 8 columns</p>\n",
       "</div>"
      ],
      "text/plain": [
       "        user_id  weight          body type  height size  age band_size  \\\n",
       "0        420272   137.0          hourglass      68   14   28        34   \n",
       "1        273551   132.0  straight & narrow      66   12   36        34   \n",
       "3        909926   135.0               pear      65    8   34        34   \n",
       "4        151944   145.0           athletic      69   12   27        34   \n",
       "5        734848   138.0           athletic      68    8   45        32   \n",
       "...         ...     ...                ...     ...  ...  ...       ...   \n",
       "192339   597756   220.0          full bust      64   35   32        38   \n",
       "192343   838239   150.0          hourglass      60   24   55        36   \n",
       "192347   442241   127.0          full bust      65    8   33        34   \n",
       "192353   961120   165.0               pear      66   16   31        36   \n",
       "192354   123612   155.0           athletic      66   16   30        36   \n",
       "\n",
       "       cup_size  \n",
       "0             d  \n",
       "1             b  \n",
       "3             c  \n",
       "4             b  \n",
       "5             b  \n",
       "...         ...  \n",
       "192339       dd  \n",
       "192343        c  \n",
       "192347        d  \n",
       "192353        c  \n",
       "192354        b  \n",
       "\n",
       "[77382 rows x 8 columns]"
      ]
     },
     "execution_count": 20,
     "metadata": {},
     "output_type": "execute_result"
    }
   ],
   "source": [
    "customers_complete"
   ]
  },
  {
   "cell_type": "code",
   "execution_count": 21,
   "metadata": {},
   "outputs": [
    {
     "name": "stderr",
     "output_type": "stream",
     "text": [
      "c:\\Users\\jesse\\anaconda3\\Lib\\site-packages\\sklearn\\cluster\\_kmeans.py:1416: FutureWarning: The default value of `n_init` will change from 10 to 'auto' in 1.4. Set the value of `n_init` explicitly to suppress the warning\n",
      "  super()._check_params_vs_input(X, default_n_init=10)\n"
     ]
    }
   ],
   "source": [
    "from sklearn.cluster import KMeans\n",
    "from sklearn.preprocessing import StandardScaler\n",
    "import pandas as pd\n",
    "\n",
    "# Convert categorical variables to numerical form\n",
    "df_encoded = pd.get_dummies(customers_complete)\n",
    "\n",
    "# Scale the data\n",
    "scaler = StandardScaler()\n",
    "df_scaled = scaler.fit_transform(df_encoded)\n",
    "\n",
    "# Perform KMeans clustering\n",
    "kmeans = KMeans(n_clusters=3, random_state=42)\n",
    "kmeans.fit(df_scaled)\n",
    "\n",
    "# Get cluster labels\n",
    "labels = kmeans.labels_"
   ]
  },
  {
   "cell_type": "code",
   "execution_count": 22,
   "metadata": {},
   "outputs": [
    {
     "name": "stdout",
     "output_type": "stream",
     "text": [
      "[0.03856226 0.06239138 0.0811088  0.09914936 0.11580893 0.13182471\n",
      " 0.14740767 0.16197642 0.17643467 0.19040624 0.20401471 0.21745326\n",
      " 0.23082867 0.24375746 0.25663483 0.26940131 0.28204824 0.29452139\n",
      " 0.30680272 0.31897513 0.33106007 0.34305336 0.35499213 0.3667662\n",
      " 0.37852098 0.3902487  0.40186774 0.41344974 0.42496671 0.43644861\n",
      " 0.44791872 0.45934413 0.47075124 0.48213776 0.49350058 0.50484204\n",
      " 0.5161673  0.52748831 0.53879702 0.55009535 0.56137866 0.57264973\n",
      " 0.58391208 0.59517308 0.60643221 0.61767927 0.62892391 0.64016765\n",
      " 0.65140932 0.66265013 0.67388876 0.68512675 0.6963641  0.70760098\n",
      " 0.71883647 0.73007112 0.74129873 0.75252313 0.76373596 0.7749332\n",
      " 0.78610018 0.79726251 0.80832064 0.81935032 0.83033396 0.84127036\n",
      " 0.85214658 0.86288381 0.87352701 0.88408261 0.89456025 0.90478742\n",
      " 0.91496813 0.92486281 0.93463505 0.94418913 0.953362   0.96232557\n",
      " 0.97030711 0.97719161 0.98375131 0.98969477 0.99515231 0.99866645\n",
      " 1.         1.         1.         1.         1.         1.\n",
      " 1.        ]\n"
     ]
    }
   ],
   "source": [
    "from sklearn.decomposition import PCA\n",
    "\n",
    "# Create a PCA instance\n",
    "pca = PCA()\n",
    "\n",
    "# Fit and transform the scaled data\n",
    "pca_data = pca.fit_transform(df_scaled)\n",
    "\n",
    "# Explained variance ratio\n",
    "explained_variance_ratio = pca.explained_variance_ratio_\n",
    "\n",
    "# Cumulative explained variance\n",
    "cumulative_explained_variance = np.cumsum(explained_variance_ratio)\n",
    "\n",
    "# Print cumulative explained variance\n",
    "print(cumulative_explained_variance)"
   ]
  },
  {
   "cell_type": "code",
   "execution_count": 24,
   "metadata": {},
   "outputs": [
    {
     "name": "stdout",
     "output_type": "stream",
     "text": [
      "Number of components for 95% variance: 77\n"
     ]
    }
   ],
   "source": [
    "\n",
    "# Find the number of principal components for 95% variance\n",
    "num_components = np.where(cumulative_explained_variance > 0.95)[0][0] + 1\n",
    "\n",
    "print(f'Number of components for 95% variance: {num_components}')"
   ]
  },
  {
   "cell_type": "code",
   "execution_count": 25,
   "metadata": {},
   "outputs": [],
   "source": [
    "# Create a new PCA instance with the number of components for 95% variance\n",
    "pca_95 = PCA(n_components=num_components)\n",
    "\n",
    "# Fit and transform the scaled data\n",
    "pca_data_95 = pca_95.fit_transform(df_scaled)\n",
    "\n",
    "# Now pca_data_95 contains your data transformed to the first 'num_components' principal components"
   ]
  },
  {
   "cell_type": "code",
   "execution_count": 26,
   "metadata": {},
   "outputs": [
    {
     "data": {
      "image/png": "[encoded data removed]",
      "text/plain": [
       "<Figure size 640x480 with 1 Axes>"
      ]
     },
     "metadata": {},
     "output_type": "display_data"
    }
   ],
   "source": [
    "from sklearn.cluster import KMeans\n",
    "import matplotlib.pyplot as plt\n",
    "\n",
    "# Use the Elbow method to find a good number of clusters using WCSS (Within Cluster Sum of Squares)\n",
    "wcss = []\n",
    "for i in range(1, 45):\n",
    "    kmeans = KMeans(n_clusters=i, init='k-means++', max_iter=300, n_init=10, random_state=0)\n",
    "    kmeans.fit(pca_data_95)\n",
    "    wcss.append(kmeans.inertia_)\n",
    "plt.plot(range(1, 45), wcss)\n",
    "plt.title('Elbow Method')\n",
    "plt.xlabel('Number of clusters')\n",
    "plt.ylabel('WCSS')\n",
    "plt.show()"
   ]
  },
  {
   "cell_type": "code",
   "execution_count": 23,
   "metadata": {},
   "outputs": [
    {
     "data": {
      "image/png": "[encoded data removed]",
      "text/plain": [
       "<Figure size 640x480 with 1 Axes>"
      ]
     },
     "metadata": {},
     "output_type": "display_data"
    }
   ],
   "source": [
    "from sklearn.cluster import KMeans\n",
    "import matplotlib.pyplot as plt\n",
    "\n",
    "# Use the Elbow method to find a good number of clusters using WCSS (Within Cluster Sum of Squares)\n",
    "wcss = []\n",
    "for i in range(1, 45):\n",
    "    kmeans = KMeans(n_clusters=i, init='k-means++', max_iter=300, n_init=10, random_state=0)\n",
    "    kmeans.fit(df_scaled)\n",
    "    wcss.append(kmeans.inertia_)\n",
    "plt.plot(range(1, 45), wcss)\n",
    "plt.title('Elbow Method')\n",
    "plt.xlabel('Number of clusters')\n",
    "plt.ylabel('WCSS')\n",
    "plt.show()"
   ]
  }
 ],
 "metadata": {
  "kernelspec": {
   "display_name": "base",
   "language": "python",
   "name": "python3"
  },
  "language_info": {
   "codemirror_mode": {
    "name": "ipython",
    "version": 3
   },
   "file_extension": ".py",
   "mimetype": "text/x-python",
   "name": "python",
   "nbconvert_exporter": "python",
   "pygments_lexer": "ipython3",
   "version": "3.11.4"
  }
 },
 "nbformat": 4,
 "nbformat_minor": 2
}
